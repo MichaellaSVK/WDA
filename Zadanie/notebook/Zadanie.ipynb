{
 "cells": [
  {
   "cell_type": "markdown",
   "metadata": {},
   "source": [
    "## Dátová množina - Telco Customer (záverečné zadanie)\n",
    "\n",
    "Pre účely zadania budeme pracovať s dátamo v oblasti telekomunikácií. Dataset (súbor `Telecom-Churn.csv` v adresári `data`) obsahuje informácie o zákazníkoch telekomunikačného operátora vrátane informácií o nich samotných a informáciach o službách, ktoré u daného operátora majú aktivované. \n",
    "Cieľom je vytvoriť prediktívny model, ktorý bude predpovedať (na základe informácií o zákazníkoch), či od telekomunikačného operátora odídu alebo nie (atribút `Churn`). \n",
    "\n",
    "Popis dát:\n",
    "\n",
    "* customerID - identifikátor zákazníka\n",
    "* gender - pohlavie zákazníka\n",
    "* SeniorCitizen - udáva, či je zákazník senior, alebo nie (1, 0)\n",
    "* Partner - udáva, či má zákazník partnera, alebo nie (Yes, No)\n",
    "* Dependents - udáva, či má zákazník ľudí na ňom závislých alebo nie (Yes, No)\n",
    "* tenure - ako dlho je už zákazník zákazníkom telekomunikačnej spoločnosti (v mesiacoch)\n",
    "* PhoneService - udáva, či zákazník má telefonickú službu alebo nie (Yes, No)\n",
    "* MultipleLines - či zákazník používa viacero liniek (čísel) (Yes, No, No phone service)\n",
    "* InternetService - typ pripojenia zákanzíkna na internet (DSL, Fiber optic, No)\n",
    "* OnlineSecurity - udáva, či používateľ používa službu zabezpečenia pripojenia (Yes, No, No internet service)\n",
    "* OnlineBackup - udáva, či používateľ používa službu online zálohovania (Yes, No, No internet service)\n",
    "* DeviceProtectionWhether - používanie zabezpečenia zariadenia (Yes, No, No internet service)\n",
    "* TechSupport - služba technickej podpory (Yes, No, No internet service)\n",
    "* StreamingTV - služba streamovanej televízie (Yes, No, No internet service)\n",
    "* StreamingMovies - služba streamovania filmov (Yes, No, No internet service)\n",
    "* Contract - typ kontraktu, ktorý zákazník uzavrel (Month-to-month, One year, Two year)\n",
    "* PaperlessBilling - či má aktivovanú službu výpisov účtov elektronicky (Yes, No)\n",
    "* PaymentMethod - spôsob platby (Electronic check, Mailed check, Bank transfer (automatic), Credit card (automatic))\n",
    "* MonthlyCharges - mesačná výška platby\n",
    "* TotalCharges - celková výška platby\n",
    "* Churn - cieľový atribút - či používateľ odišiel od operátora alebo nie (Yes or No)\n"
   ]
  },
  {
   "cell_type": "markdown",
   "metadata": {},
   "source": [
    "### Úloha 1 - Načítanie dát (2b)\n",
    "\n",
    "Načítajte dáta do dátového rámca a odstráňte nepotrebné atribúty, ktoré sa nedajú využiť pri analýze dát."
   ]
  },
  {
   "cell_type": "code",
   "execution_count": 1,
   "metadata": {},
   "outputs": [],
   "source": [
    "import pandas as pd\n",
    "import numpy as np\n",
    "import matplotlib.pyplot as plt\n",
    "import seaborn as sns\n",
    "%matplotlib inline\n",
    "sns.set()"
   ]
  },
  {
   "cell_type": "code",
   "execution_count": 2,
   "metadata": {},
   "outputs": [],
   "source": [
    "data = pd.read_csv(\"../data/Telecom-Churn.csv\")"
   ]
  },
  {
   "cell_type": "code",
   "execution_count": 3,
   "metadata": {},
   "outputs": [],
   "source": [
    "data = data.drop(columns=['CustomerID', 'Unnamed: 0'])"
   ]
  },
  {
   "cell_type": "code",
   "execution_count": 4,
   "metadata": {},
   "outputs": [],
   "source": [
    "data[\"SeniorCitizen\"] = data[\"SeniorCitizen\"].replace({1:\"Yes\",0:\"No\"})"
   ]
  },
  {
   "cell_type": "code",
   "execution_count": 5,
   "metadata": {},
   "outputs": [
    {
     "data": {
      "text/html": [
       "<div>\n",
       "<style scoped>\n",
       "    .dataframe tbody tr th:only-of-type {\n",
       "        vertical-align: middle;\n",
       "    }\n",
       "\n",
       "    .dataframe tbody tr th {\n",
       "        vertical-align: top;\n",
       "    }\n",
       "\n",
       "    .dataframe thead th {\n",
       "        text-align: right;\n",
       "    }\n",
       "</style>\n",
       "<table border=\"1\" class=\"dataframe\">\n",
       "  <thead>\n",
       "    <tr style=\"text-align: right;\">\n",
       "      <th></th>\n",
       "      <th>Gender</th>\n",
       "      <th>SeniorCitizen</th>\n",
       "      <th>Partner</th>\n",
       "      <th>Dependents</th>\n",
       "      <th>Tenure</th>\n",
       "      <th>PhoneService</th>\n",
       "      <th>MultipleLines</th>\n",
       "      <th>InternetService</th>\n",
       "      <th>OnlineSecurity</th>\n",
       "      <th>OnlineBackup</th>\n",
       "      <th>DeviceProtection</th>\n",
       "      <th>TechSupport</th>\n",
       "      <th>StreamingTV</th>\n",
       "      <th>StreamingMovies</th>\n",
       "      <th>Contract</th>\n",
       "      <th>PaperlessBilling</th>\n",
       "      <th>PaymentMethod</th>\n",
       "      <th>MonthlyCharges</th>\n",
       "      <th>TotalCharges</th>\n",
       "      <th>Churn</th>\n",
       "    </tr>\n",
       "  </thead>\n",
       "  <tbody>\n",
       "    <tr>\n",
       "      <th>0</th>\n",
       "      <td>Female</td>\n",
       "      <td>No</td>\n",
       "      <td>Yes</td>\n",
       "      <td>No</td>\n",
       "      <td>1</td>\n",
       "      <td>No</td>\n",
       "      <td>No phone service</td>\n",
       "      <td>DSL</td>\n",
       "      <td>No</td>\n",
       "      <td>Yes</td>\n",
       "      <td>No</td>\n",
       "      <td>No</td>\n",
       "      <td>No</td>\n",
       "      <td>No</td>\n",
       "      <td>Month-to-month</td>\n",
       "      <td>Yes</td>\n",
       "      <td>Electronic check</td>\n",
       "      <td>29.85</td>\n",
       "      <td>29.85</td>\n",
       "      <td>No</td>\n",
       "    </tr>\n",
       "    <tr>\n",
       "      <th>1</th>\n",
       "      <td>Male</td>\n",
       "      <td>No</td>\n",
       "      <td>No</td>\n",
       "      <td>No</td>\n",
       "      <td>34</td>\n",
       "      <td>Yes</td>\n",
       "      <td>No</td>\n",
       "      <td>DSL</td>\n",
       "      <td>Yes</td>\n",
       "      <td>No</td>\n",
       "      <td>Yes</td>\n",
       "      <td>No</td>\n",
       "      <td>No</td>\n",
       "      <td>No</td>\n",
       "      <td>One year</td>\n",
       "      <td>No</td>\n",
       "      <td>Mailed check</td>\n",
       "      <td>56.95</td>\n",
       "      <td>1889.50</td>\n",
       "      <td>No</td>\n",
       "    </tr>\n",
       "    <tr>\n",
       "      <th>2</th>\n",
       "      <td>Male</td>\n",
       "      <td>No</td>\n",
       "      <td>No</td>\n",
       "      <td>No</td>\n",
       "      <td>2</td>\n",
       "      <td>Yes</td>\n",
       "      <td>No</td>\n",
       "      <td>DSL</td>\n",
       "      <td>Yes</td>\n",
       "      <td>Yes</td>\n",
       "      <td>No</td>\n",
       "      <td>No</td>\n",
       "      <td>No</td>\n",
       "      <td>No</td>\n",
       "      <td>Month-to-month</td>\n",
       "      <td>Yes</td>\n",
       "      <td>Mailed check</td>\n",
       "      <td>53.85</td>\n",
       "      <td>108.15</td>\n",
       "      <td>Yes</td>\n",
       "    </tr>\n",
       "    <tr>\n",
       "      <th>3</th>\n",
       "      <td>Male</td>\n",
       "      <td>No</td>\n",
       "      <td>No</td>\n",
       "      <td>No</td>\n",
       "      <td>45</td>\n",
       "      <td>No</td>\n",
       "      <td>No phone service</td>\n",
       "      <td>DSL</td>\n",
       "      <td>Yes</td>\n",
       "      <td>No</td>\n",
       "      <td>Yes</td>\n",
       "      <td>Yes</td>\n",
       "      <td>No</td>\n",
       "      <td>No</td>\n",
       "      <td>One year</td>\n",
       "      <td>No</td>\n",
       "      <td>Bank transfer (automatic)</td>\n",
       "      <td>42.30</td>\n",
       "      <td>1840.75</td>\n",
       "      <td>No</td>\n",
       "    </tr>\n",
       "    <tr>\n",
       "      <th>4</th>\n",
       "      <td>Female</td>\n",
       "      <td>No</td>\n",
       "      <td>No</td>\n",
       "      <td>No</td>\n",
       "      <td>2</td>\n",
       "      <td>Yes</td>\n",
       "      <td>No</td>\n",
       "      <td>Fiber optic</td>\n",
       "      <td>No</td>\n",
       "      <td>No</td>\n",
       "      <td>No</td>\n",
       "      <td>No</td>\n",
       "      <td>No</td>\n",
       "      <td>No</td>\n",
       "      <td>Month-to-month</td>\n",
       "      <td>Yes</td>\n",
       "      <td>Electronic check</td>\n",
       "      <td>70.70</td>\n",
       "      <td>151.65</td>\n",
       "      <td>Yes</td>\n",
       "    </tr>\n",
       "  </tbody>\n",
       "</table>\n",
       "</div>"
      ],
      "text/plain": [
       "   Gender SeniorCitizen Partner Dependents  Tenure PhoneService  \\\n",
       "0  Female            No     Yes         No       1           No   \n",
       "1    Male            No      No         No      34          Yes   \n",
       "2    Male            No      No         No       2          Yes   \n",
       "3    Male            No      No         No      45           No   \n",
       "4  Female            No      No         No       2          Yes   \n",
       "\n",
       "      MultipleLines InternetService OnlineSecurity OnlineBackup  \\\n",
       "0  No phone service             DSL             No          Yes   \n",
       "1                No             DSL            Yes           No   \n",
       "2                No             DSL            Yes          Yes   \n",
       "3  No phone service             DSL            Yes           No   \n",
       "4                No     Fiber optic             No           No   \n",
       "\n",
       "  DeviceProtection TechSupport StreamingTV StreamingMovies        Contract  \\\n",
       "0               No          No          No              No  Month-to-month   \n",
       "1              Yes          No          No              No        One year   \n",
       "2               No          No          No              No  Month-to-month   \n",
       "3              Yes         Yes          No              No        One year   \n",
       "4               No          No          No              No  Month-to-month   \n",
       "\n",
       "  PaperlessBilling              PaymentMethod  MonthlyCharges  TotalCharges  \\\n",
       "0              Yes           Electronic check           29.85         29.85   \n",
       "1               No               Mailed check           56.95       1889.50   \n",
       "2              Yes               Mailed check           53.85        108.15   \n",
       "3               No  Bank transfer (automatic)           42.30       1840.75   \n",
       "4              Yes           Electronic check           70.70        151.65   \n",
       "\n",
       "  Churn  \n",
       "0    No  \n",
       "1    No  \n",
       "2   Yes  \n",
       "3    No  \n",
       "4   Yes  "
      ]
     },
     "execution_count": 5,
     "metadata": {},
     "output_type": "execute_result"
    }
   ],
   "source": [
    "data.head()"
   ]
  },
  {
   "cell_type": "markdown",
   "metadata": {},
   "source": [
    "### Úloha 2 - Základné štatistiky (4b)\n",
    "\n",
    "* Pre číselné atribúty vypočítajte základné štatistiky a vizualizujte distribúciu pravdepodobnosti výskytu hodnôt.\n",
    "* Pre nominálne/ordinálne atribúty vypočítajte početnosti hodnôt. Vykreslite pre ne histogramy.\n",
    "* Pre každý atribút vypočítajte počet chýbajúcich hodnôt."
   ]
  },
  {
   "cell_type": "code",
   "execution_count": 6,
   "metadata": {},
   "outputs": [
    {
     "data": {
      "text/html": [
       "<div>\n",
       "<style scoped>\n",
       "    .dataframe tbody tr th:only-of-type {\n",
       "        vertical-align: middle;\n",
       "    }\n",
       "\n",
       "    .dataframe tbody tr th {\n",
       "        vertical-align: top;\n",
       "    }\n",
       "\n",
       "    .dataframe thead th {\n",
       "        text-align: right;\n",
       "    }\n",
       "</style>\n",
       "<table border=\"1\" class=\"dataframe\">\n",
       "  <thead>\n",
       "    <tr style=\"text-align: right;\">\n",
       "      <th></th>\n",
       "      <th>Tenure</th>\n",
       "      <th>MonthlyCharges</th>\n",
       "      <th>TotalCharges</th>\n",
       "    </tr>\n",
       "  </thead>\n",
       "  <tbody>\n",
       "    <tr>\n",
       "      <th>count</th>\n",
       "      <td>7043.000000</td>\n",
       "      <td>7017.000000</td>\n",
       "      <td>7032.000000</td>\n",
       "    </tr>\n",
       "    <tr>\n",
       "      <th>mean</th>\n",
       "      <td>32.371149</td>\n",
       "      <td>64.707482</td>\n",
       "      <td>2283.300441</td>\n",
       "    </tr>\n",
       "    <tr>\n",
       "      <th>std</th>\n",
       "      <td>24.559481</td>\n",
       "      <td>30.105503</td>\n",
       "      <td>2266.771362</td>\n",
       "    </tr>\n",
       "    <tr>\n",
       "      <th>min</th>\n",
       "      <td>0.000000</td>\n",
       "      <td>18.250000</td>\n",
       "      <td>18.800000</td>\n",
       "    </tr>\n",
       "    <tr>\n",
       "      <th>25%</th>\n",
       "      <td>9.000000</td>\n",
       "      <td>35.400000</td>\n",
       "      <td>401.450000</td>\n",
       "    </tr>\n",
       "    <tr>\n",
       "      <th>50%</th>\n",
       "      <td>29.000000</td>\n",
       "      <td>70.300000</td>\n",
       "      <td>1397.475000</td>\n",
       "    </tr>\n",
       "    <tr>\n",
       "      <th>75%</th>\n",
       "      <td>55.000000</td>\n",
       "      <td>89.850000</td>\n",
       "      <td>3794.737500</td>\n",
       "    </tr>\n",
       "    <tr>\n",
       "      <th>max</th>\n",
       "      <td>72.000000</td>\n",
       "      <td>118.750000</td>\n",
       "      <td>8684.800000</td>\n",
       "    </tr>\n",
       "  </tbody>\n",
       "</table>\n",
       "</div>"
      ],
      "text/plain": [
       "            Tenure  MonthlyCharges  TotalCharges\n",
       "count  7043.000000     7017.000000   7032.000000\n",
       "mean     32.371149       64.707482   2283.300441\n",
       "std      24.559481       30.105503   2266.771362\n",
       "min       0.000000       18.250000     18.800000\n",
       "25%       9.000000       35.400000    401.450000\n",
       "50%      29.000000       70.300000   1397.475000\n",
       "75%      55.000000       89.850000   3794.737500\n",
       "max      72.000000      118.750000   8684.800000"
      ]
     },
     "execution_count": 6,
     "metadata": {},
     "output_type": "execute_result"
    }
   ],
   "source": [
    "#základné štatistiky pre číselné atribúty\n",
    "data.describe()"
   ]
  },
  {
   "cell_type": "code",
   "execution_count": 7,
   "metadata": {},
   "outputs": [
    {
     "data": {
      "image/png": "[encoded data removed]",
      "text/plain": [
       "<Figure size 432x288 with 1 Axes>"
      ]
     },
     "metadata": {
      "needs_background": "light"
     },
     "output_type": "display_data"
    }
   ],
   "source": [
    "#distribúcia pravdepodobnosti výskytu ich hodnôt - číselné atribúty\n",
    "g = sns.distplot(data['Tenure'])"
   ]
  },
  {
   "cell_type": "code",
   "execution_count": 8,
   "metadata": {},
   "outputs": [
    {
     "name": "stderr",
     "output_type": "stream",
     "text": [
      "C:\\Users\\hajdu\\Anaconda3\\lib\\site-packages\\numpy\\lib\\histograms.py:824: RuntimeWarning: invalid value encountered in greater_equal\n",
      "  keep = (tmp_a >= first_edge)\n",
      "C:\\Users\\hajdu\\Anaconda3\\lib\\site-packages\\numpy\\lib\\histograms.py:825: RuntimeWarning: invalid value encountered in less_equal\n",
      "  keep &= (tmp_a <= last_edge)\n",
      "C:\\Users\\hajdu\\Anaconda3\\lib\\site-packages\\statsmodels\\nonparametric\\kde.py:448: RuntimeWarning: invalid value encountered in greater\n",
      "  X = X[np.logical_and(X > clip[0], X < clip[1])] # won't work for two columns.\n",
      "C:\\Users\\hajdu\\Anaconda3\\lib\\site-packages\\statsmodels\\nonparametric\\kde.py:448: RuntimeWarning: invalid value encountered in less\n",
      "  X = X[np.logical_and(X > clip[0], X < clip[1])] # won't work for two columns.\n"
     ]
    },
    {
     "data": {
      "image/png": "[encoded data removed]",
      "text/plain": [
       "<Figure size 432x288 with 1 Axes>"
      ]
     },
     "metadata": {
      "needs_background": "light"
     },
     "output_type": "display_data"
    }
   ],
   "source": [
    "g = sns.distplot(data['MonthlyCharges'], kde=True, bins=60, rug=False)"
   ]
  },
  {
   "cell_type": "code",
   "execution_count": 9,
   "metadata": {},
   "outputs": [
    {
     "data": {
      "image/png": "[encoded data removed]",
      "text/plain": [
       "<Figure size 432x288 with 1 Axes>"
      ]
     },
     "metadata": {
      "needs_background": "light"
     },
     "output_type": "display_data"
    }
   ],
   "source": [
    "g = sns.distplot(data['TotalCharges'], kde=True, bins=50, rug=False)"
   ]
  },
  {
   "cell_type": "code",
   "execution_count": 10,
   "metadata": {},
   "outputs": [
    {
     "data": {
      "text/plain": [
       "No     5901\n",
       "Yes    1142\n",
       "Name: SeniorCitizen, dtype: int64"
      ]
     },
     "execution_count": 10,
     "metadata": {},
     "output_type": "execute_result"
    }
   ],
   "source": [
    "data['SeniorCitizen'].value_counts()"
   ]
  },
  {
   "cell_type": "code",
   "execution_count": 11,
   "metadata": {},
   "outputs": [
    {
     "data": {
      "text/plain": [
       "No                  3390\n",
       "Yes                 2971\n",
       "No phone service     682\n",
       "Name: MultipleLines, dtype: int64"
      ]
     },
     "execution_count": 11,
     "metadata": {},
     "output_type": "execute_result"
    }
   ],
   "source": [
    "data['MultipleLines'].value_counts()"
   ]
  },
  {
   "cell_type": "code",
   "execution_count": 12,
   "metadata": {},
   "outputs": [
    {
     "data": {
      "text/plain": [
       "Fiber optic    3096\n",
       "DSL            2421\n",
       "No             1526\n",
       "Name: InternetService, dtype: int64"
      ]
     },
     "execution_count": 12,
     "metadata": {},
     "output_type": "execute_result"
    }
   ],
   "source": [
    "data['InternetService'].value_counts()"
   ]
  },
  {
   "cell_type": "code",
   "execution_count": 13,
   "metadata": {},
   "outputs": [
    {
     "data": {
      "text/plain": [
       "No                     3498\n",
       "Yes                    2019\n",
       "No internet service    1526\n",
       "Name: OnlineSecurity, dtype: int64"
      ]
     },
     "execution_count": 13,
     "metadata": {},
     "output_type": "execute_result"
    }
   ],
   "source": [
    "data['OnlineSecurity'].value_counts()"
   ]
  },
  {
   "cell_type": "code",
   "execution_count": 14,
   "metadata": {},
   "outputs": [
    {
     "data": {
      "text/plain": [
       "No                     3088\n",
       "Yes                    2429\n",
       "No internet service    1526\n",
       "Name: OnlineBackup, dtype: int64"
      ]
     },
     "execution_count": 14,
     "metadata": {},
     "output_type": "execute_result"
    }
   ],
   "source": [
    "data['OnlineBackup'].value_counts()"
   ]
  },
  {
   "cell_type": "code",
   "execution_count": 15,
   "metadata": {},
   "outputs": [
    {
     "data": {
      "text/plain": [
       "No                     3095\n",
       "Yes                    2422\n",
       "No internet service    1526\n",
       "Name: DeviceProtection, dtype: int64"
      ]
     },
     "execution_count": 15,
     "metadata": {},
     "output_type": "execute_result"
    }
   ],
   "source": [
    "data['DeviceProtection'].value_counts()"
   ]
  },
  {
   "cell_type": "code",
   "execution_count": 16,
   "metadata": {},
   "outputs": [
    {
     "data": {
      "text/plain": [
       "No     4921\n",
       "Yes    2102\n",
       "Name: Dependents, dtype: int64"
      ]
     },
     "execution_count": 16,
     "metadata": {},
     "output_type": "execute_result"
    }
   ],
   "source": [
    "data['Dependents'].value_counts()"
   ]
  },
  {
   "cell_type": "code",
   "execution_count": 17,
   "metadata": {},
   "outputs": [
    {
     "data": {
      "image/png": "[encoded data removed]",
      "text/plain": [
       "<Figure size 1152x1152 with 8 Axes>"
      ]
     },
     "metadata": {
      "needs_background": "light"
     },
     "output_type": "display_data"
    }
   ],
   "source": [
    "#vizualizácia - ordinálne/nominálne atribúty\n",
    "f, ax = plt.subplots(4,2,figsize=(16,16))\n",
    "vis1 = sns.countplot(data[\"MultipleLines\"], ax= ax[0][0])\n",
    "vis2 = sns.countplot(data[\"InternetService\"], ax=ax[0][1])\n",
    "vis3 = sns.countplot(data[\"OnlineSecurity\"], ax=ax[1][0])\n",
    "vis4 = sns.countplot(data[\"OnlineBackup\"], ax=ax[1][1])\n",
    "vis5 = sns.countplot(data[\"TechSupport\"], ax=ax[2][0])\n",
    "vis6 = sns.countplot(data[\"StreamingTV\"], ax=ax[2][1])\n",
    "vis7 = sns.countplot(data[\"StreamingMovies\"], ax=ax[3][0])\n",
    "vis8 = sns.countplot(data[\"Contract\"], ax=ax[3][1])"
   ]
  },
  {
   "cell_type": "code",
   "execution_count": 18,
   "metadata": {},
   "outputs": [
    {
     "data": {
      "text/plain": [
       "Gender               0\n",
       "SeniorCitizen        0\n",
       "Partner              0\n",
       "Dependents          20\n",
       "Tenure               0\n",
       "PhoneService         0\n",
       "MultipleLines        0\n",
       "InternetService      0\n",
       "OnlineSecurity       0\n",
       "OnlineBackup         0\n",
       "DeviceProtection     0\n",
       "TechSupport          0\n",
       "StreamingTV          0\n",
       "StreamingMovies      0\n",
       "Contract             0\n",
       "PaperlessBilling     0\n",
       "PaymentMethod        0\n",
       "MonthlyCharges      26\n",
       "TotalCharges        11\n",
       "Churn                0\n",
       "dtype: int64"
      ]
     },
     "execution_count": 18,
     "metadata": {},
     "output_type": "execute_result"
    }
   ],
   "source": [
    "#počet chýbajúcich hodnôt pre všetky atribúty\n",
    "data.isna().sum()"
   ]
  },
  {
   "cell_type": "markdown",
   "metadata": {},
   "source": [
    "### Úloha 3 - Závislosti medzi číselnými atribútmi (3b)\n",
    "\n",
    "Vypočítajte korelačnú maticu pre číselné atribúty a identifikujte, ktoré atribúty sú najviac korelované."
   ]
  },
  {
   "cell_type": "code",
   "execution_count": 19,
   "metadata": {},
   "outputs": [
    {
     "data": {
      "text/html": [
       "<div>\n",
       "<style scoped>\n",
       "    .dataframe tbody tr th:only-of-type {\n",
       "        vertical-align: middle;\n",
       "    }\n",
       "\n",
       "    .dataframe tbody tr th {\n",
       "        vertical-align: top;\n",
       "    }\n",
       "\n",
       "    .dataframe thead th {\n",
       "        text-align: right;\n",
       "    }\n",
       "</style>\n",
       "<table border=\"1\" class=\"dataframe\">\n",
       "  <thead>\n",
       "    <tr style=\"text-align: right;\">\n",
       "      <th></th>\n",
       "      <th>Tenure</th>\n",
       "      <th>MonthlyCharges</th>\n",
       "      <th>TotalCharges</th>\n",
       "    </tr>\n",
       "  </thead>\n",
       "  <tbody>\n",
       "    <tr>\n",
       "      <th>Tenure</th>\n",
       "      <td>1.000000</td>\n",
       "      <td>0.247732</td>\n",
       "      <td>0.825880</td>\n",
       "    </tr>\n",
       "    <tr>\n",
       "      <th>MonthlyCharges</th>\n",
       "      <td>0.247732</td>\n",
       "      <td>1.000000</td>\n",
       "      <td>0.651316</td>\n",
       "    </tr>\n",
       "    <tr>\n",
       "      <th>TotalCharges</th>\n",
       "      <td>0.825880</td>\n",
       "      <td>0.651316</td>\n",
       "      <td>1.000000</td>\n",
       "    </tr>\n",
       "  </tbody>\n",
       "</table>\n",
       "</div>"
      ],
      "text/plain": [
       "                  Tenure  MonthlyCharges  TotalCharges\n",
       "Tenure          1.000000        0.247732      0.825880\n",
       "MonthlyCharges  0.247732        1.000000      0.651316\n",
       "TotalCharges    0.825880        0.651316      1.000000"
      ]
     },
     "execution_count": 19,
     "metadata": {},
     "output_type": "execute_result"
    }
   ],
   "source": [
    "# korelačná matica, najviac korelované = Tenure + Total Charges\n",
    "factors = data[[\"Tenure\", \"MonthlyCharges\", \"TotalCharges\"]]\n",
    "corr_table = factors.corr()\n",
    "corr_table"
   ]
  },
  {
   "cell_type": "markdown",
   "metadata": {},
   "source": [
    "### Úloha 4 - Diskretizácia hodnôt (4b)\n",
    "\n",
    "* Diskretizujte číselné atribúty `MonthlyCharges` a `TotalCharges` do 5 rovnako veľkých intervalov.\n",
    "* Diskretizujte číselný atribút `Tenure` na 5 intervalov s rovnakou početnosťou príkladov."
   ]
  },
  {
   "cell_type": "code",
   "execution_count": 20,
   "metadata": {},
   "outputs": [
    {
     "data": {
      "text/plain": [
       "high         1817\n",
       "very_low     1797\n",
       "standard     1361\n",
       "very_high    1042\n",
       "low          1000\n",
       "Name: MonthlyCharges_ordinal, dtype: int64"
      ]
     },
     "execution_count": 20,
     "metadata": {},
     "output_type": "execute_result"
    }
   ],
   "source": [
    "#číselný atribút-diskretizácia Monthly Charges - 5 rovnakých intervalov\n",
    "data[\"MonthlyCharges_ordinal\"] = pd.cut(data[\"MonthlyCharges\"], bins=5, labels=[\"very_low\", \"low\", \"standard\", \"high\", \"very_high\"])\n",
    "data[\"MonthlyCharges_ordinal\"].value_counts() "
   ]
  },
  {
   "cell_type": "code",
   "execution_count": 21,
   "metadata": {},
   "outputs": [
    {
     "data": {
      "text/plain": [
       "very_low     3937\n",
       "low          1179\n",
       "standard      866\n",
       "high          705\n",
       "very_high     345\n",
       "Name: TotalCharges_ordinal, dtype: int64"
      ]
     },
     "execution_count": 21,
     "metadata": {},
     "output_type": "execute_result"
    }
   ],
   "source": [
    "#číselný atribút-diskretizácia Total Charges - 5 rovnakých interavalov\n",
    "data[\"TotalCharges_ordinal\"] = pd.cut(data[\"TotalCharges\"], bins=5, labels=[\"very_low\", \"low\", \"standard\", \"high\", \"very_high\"])\n",
    "data[\"TotalCharges_ordinal\"].value_counts()"
   ]
  },
  {
   "cell_type": "code",
   "execution_count": 22,
   "metadata": {},
   "outputs": [
    {
     "data": {
      "text/plain": [
       "very_short    1481\n",
       "standard      1408\n",
       "very_long     1407\n",
       "short         1397\n",
       "long          1350\n",
       "Name: Tenure_ordinal, dtype: int64"
      ]
     },
     "execution_count": 22,
     "metadata": {},
     "output_type": "execute_result"
    }
   ],
   "source": [
    "#číselný atribút-diskretizácia Tenure - 5 intervalov, rovnaká početnosť\n",
    "data[\"Tenure_ordinal\"] = pd.qcut(data[\"Tenure\"], 5, labels=[\"very_short\", \"short\", \"standard\", \"long\", \"very_long\"] )\n",
    "data[\"Tenure_ordinal\"].value_counts()"
   ]
  },
  {
   "cell_type": "markdown",
   "metadata": {},
   "source": [
    "### Úloha 5 - Závislosti medzi nominálnymi/ordinálnymi atribútmi (5b)\n",
    "\n",
    "* Pomocou kontingenčnej tabuľky zistite, aká je závislosť medzi atribútmi `Tenure`, `MonthlyCharges`, `TotalCharges` a atribútom `Churn` (využite diskretizovanie hodnôt z úlohy 4). Závislosti vizualizujte vhodným spôsobom pomocou knižnice Seaborn.\n",
    "* Pomocou kontingenčnej tabuľky zistite, aká je závislosť medzi atribútmi `Gender`, `SeniorCitizen` a atribútom `Churn`.\n",
    "* Pomocou krížovej tabuľky zistite početnosť rôznych kombinácií služieb pre atribúty `PhoneService`, `InternetService`, `StreamingTV`, `StreamingMovies`. Početnosti vizualizujte aj pomocou Seaborn knižnice."
   ]
  },
  {
   "cell_type": "code",
   "execution_count": 23,
   "metadata": {},
   "outputs": [
    {
     "data": {
      "text/html": [
       "<div>\n",
       "<style scoped>\n",
       "    .dataframe tbody tr th:only-of-type {\n",
       "        vertical-align: middle;\n",
       "    }\n",
       "\n",
       "    .dataframe tbody tr th {\n",
       "        vertical-align: top;\n",
       "    }\n",
       "\n",
       "    .dataframe thead tr th {\n",
       "        text-align: left;\n",
       "    }\n",
       "\n",
       "    .dataframe thead tr:last-of-type th {\n",
       "        text-align: right;\n",
       "    }\n",
       "</style>\n",
       "<table border=\"1\" class=\"dataframe\">\n",
       "  <thead>\n",
       "    <tr>\n",
       "      <th></th>\n",
       "      <th></th>\n",
       "      <th colspan=\"2\" halign=\"left\">count</th>\n",
       "      <th colspan=\"2\" halign=\"left\">mean</th>\n",
       "    </tr>\n",
       "    <tr>\n",
       "      <th></th>\n",
       "      <th></th>\n",
       "      <th>MonthlyCharges</th>\n",
       "      <th>TotalCharges</th>\n",
       "      <th>MonthlyCharges</th>\n",
       "      <th>TotalCharges</th>\n",
       "    </tr>\n",
       "    <tr>\n",
       "      <th>Churn</th>\n",
       "      <th>Tenure_ordinal</th>\n",
       "      <th></th>\n",
       "      <th></th>\n",
       "      <th></th>\n",
       "      <th></th>\n",
       "    </tr>\n",
       "  </thead>\n",
       "  <tbody>\n",
       "    <tr>\n",
       "      <th rowspan=\"5\" valign=\"top\">No</th>\n",
       "      <th>very_short</th>\n",
       "      <td>695</td>\n",
       "      <td>686</td>\n",
       "      <td>44.656547</td>\n",
       "      <td>130.645700</td>\n",
       "    </tr>\n",
       "    <tr>\n",
       "      <th>short</th>\n",
       "      <td>926</td>\n",
       "      <td>930</td>\n",
       "      <td>51.515875</td>\n",
       "      <td>680.136613</td>\n",
       "    </tr>\n",
       "    <tr>\n",
       "      <th>standard</th>\n",
       "      <td>1092</td>\n",
       "      <td>1093</td>\n",
       "      <td>59.377060</td>\n",
       "      <td>1789.645334</td>\n",
       "    </tr>\n",
       "    <tr>\n",
       "      <th>long</th>\n",
       "      <td>1135</td>\n",
       "      <td>1140</td>\n",
       "      <td>65.796916</td>\n",
       "      <td>3361.318904</td>\n",
       "    </tr>\n",
       "    <tr>\n",
       "      <th>very_long</th>\n",
       "      <td>1307</td>\n",
       "      <td>1314</td>\n",
       "      <td>74.352984</td>\n",
       "      <td>5086.077549</td>\n",
       "    </tr>\n",
       "    <tr>\n",
       "      <th rowspan=\"5\" valign=\"top\">Yes</th>\n",
       "      <th>very_short</th>\n",
       "      <td>782</td>\n",
       "      <td>784</td>\n",
       "      <td>63.660230</td>\n",
       "      <td>155.005038</td>\n",
       "    </tr>\n",
       "    <tr>\n",
       "      <th>short</th>\n",
       "      <td>464</td>\n",
       "      <td>467</td>\n",
       "      <td>76.279095</td>\n",
       "      <td>947.262313</td>\n",
       "    </tr>\n",
       "    <tr>\n",
       "      <th>standard</th>\n",
       "      <td>314</td>\n",
       "      <td>315</td>\n",
       "      <td>82.901115</td>\n",
       "      <td>2457.371587</td>\n",
       "    </tr>\n",
       "    <tr>\n",
       "      <th>long</th>\n",
       "      <td>209</td>\n",
       "      <td>210</td>\n",
       "      <td>87.830144</td>\n",
       "      <td>4375.537381</td>\n",
       "    </tr>\n",
       "    <tr>\n",
       "      <th>very_long</th>\n",
       "      <td>93</td>\n",
       "      <td>93</td>\n",
       "      <td>97.317742</td>\n",
       "      <td>6517.167204</td>\n",
       "    </tr>\n",
       "  </tbody>\n",
       "</table>\n",
       "</div>"
      ],
      "text/plain": [
       "                              count                        mean             \n",
       "                     MonthlyCharges TotalCharges MonthlyCharges TotalCharges\n",
       "Churn Tenure_ordinal                                                        \n",
       "No    very_short                695          686      44.656547   130.645700\n",
       "      short                     926          930      51.515875   680.136613\n",
       "      standard                 1092         1093      59.377060  1789.645334\n",
       "      long                     1135         1140      65.796916  3361.318904\n",
       "      very_long                1307         1314      74.352984  5086.077549\n",
       "Yes   very_short                782          784      63.660230   155.005038\n",
       "      short                     464          467      76.279095   947.262313\n",
       "      standard                  314          315      82.901115  2457.371587\n",
       "      long                      209          210      87.830144  4375.537381\n",
       "      very_long                  93           93      97.317742  6517.167204"
      ]
     },
     "execution_count": 23,
     "metadata": {},
     "output_type": "execute_result"
    }
   ],
   "source": [
    "#závislosť medzi Tenure, MonthlyCharges_ordinal, TotalCharges_ordinal a Churn\n",
    "pd.pivot_table(data, index=[\"Churn\", \"Tenure_ordinal\"], values=[\"MonthlyCharges\", \"TotalCharges\"], aggfunc=[\"count\", \"mean\"])"
   ]
  },
  {
   "cell_type": "code",
   "execution_count": 24,
   "metadata": {},
   "outputs": [
    {
     "data": {
      "image/png": "[encoded data removed]",
      "text/plain": [
       "<Figure size 1008x720 with 4 Axes>"
      ]
     },
     "metadata": {
      "needs_background": "light"
     },
     "output_type": "display_data"
    }
   ],
   "source": [
    "f, ax = plt.subplots(2,2,figsize=(14,10))\n",
    "vis1 = sns.countplot(data['Tenure_ordinal'], hue=data['Churn'], ax= ax[0][0])\n",
    "vis2 = sns.countplot(data['MonthlyCharges_ordinal'], hue=data['Churn'], ax= ax[0][1])\n",
    "vis3 = sns.countplot(data['TotalCharges_ordinal'], hue=data['Churn'], ax= ax[1][0])"
   ]
  },
  {
   "cell_type": "code",
   "execution_count": 25,
   "metadata": {},
   "outputs": [
    {
     "data": {
      "text/html": [
       "<div>\n",
       "<style scoped>\n",
       "    .dataframe tbody tr th:only-of-type {\n",
       "        vertical-align: middle;\n",
       "    }\n",
       "\n",
       "    .dataframe tbody tr th {\n",
       "        vertical-align: top;\n",
       "    }\n",
       "\n",
       "    .dataframe thead th {\n",
       "        text-align: right;\n",
       "    }\n",
       "</style>\n",
       "<table border=\"1\" class=\"dataframe\">\n",
       "  <thead>\n",
       "    <tr style=\"text-align: right;\">\n",
       "      <th></th>\n",
       "      <th>Gender</th>\n",
       "      <th>Female</th>\n",
       "      <th>Male</th>\n",
       "    </tr>\n",
       "    <tr>\n",
       "      <th>Churn</th>\n",
       "      <th>SeniorCitizen</th>\n",
       "      <th></th>\n",
       "      <th></th>\n",
       "    </tr>\n",
       "  </thead>\n",
       "  <tbody>\n",
       "    <tr>\n",
       "      <th rowspan=\"2\" valign=\"top\">No</th>\n",
       "      <th>No</th>\n",
       "      <td>2221</td>\n",
       "      <td>2287</td>\n",
       "    </tr>\n",
       "    <tr>\n",
       "      <th>Yes</th>\n",
       "      <td>328</td>\n",
       "      <td>338</td>\n",
       "    </tr>\n",
       "    <tr>\n",
       "      <th rowspan=\"2\" valign=\"top\">Yes</th>\n",
       "      <th>No</th>\n",
       "      <td>699</td>\n",
       "      <td>694</td>\n",
       "    </tr>\n",
       "    <tr>\n",
       "      <th>Yes</th>\n",
       "      <td>240</td>\n",
       "      <td>236</td>\n",
       "    </tr>\n",
       "  </tbody>\n",
       "</table>\n",
       "</div>"
      ],
      "text/plain": [
       "Gender               Female  Male\n",
       "Churn SeniorCitizen              \n",
       "No    No               2221  2287\n",
       "      Yes               328   338\n",
       "Yes   No                699   694\n",
       "      Yes               240   236"
      ]
     },
     "execution_count": 25,
     "metadata": {},
     "output_type": "execute_result"
    }
   ],
   "source": [
    "#závislosť medzi atribútmi Gender, SeniorCitizen a atribútom Churn\n",
    "pd.crosstab(index=[data[\"Churn\"], data[\"SeniorCitizen\"]], columns=data[\"Gender\"])"
   ]
  },
  {
   "cell_type": "code",
   "execution_count": 26,
   "metadata": {},
   "outputs": [
    {
     "data": {
      "text/html": [
       "<div>\n",
       "<style scoped>\n",
       "    .dataframe tbody tr th:only-of-type {\n",
       "        vertical-align: middle;\n",
       "    }\n",
       "\n",
       "    .dataframe tbody tr th {\n",
       "        vertical-align: top;\n",
       "    }\n",
       "\n",
       "    .dataframe thead th {\n",
       "        text-align: right;\n",
       "    }\n",
       "</style>\n",
       "<table border=\"1\" class=\"dataframe\">\n",
       "  <thead>\n",
       "    <tr style=\"text-align: right;\">\n",
       "      <th></th>\n",
       "      <th></th>\n",
       "      <th>InternetService</th>\n",
       "      <th>DSL</th>\n",
       "      <th>Fiber optic</th>\n",
       "      <th>No</th>\n",
       "    </tr>\n",
       "    <tr>\n",
       "      <th>PhoneService</th>\n",
       "      <th>StreamingTV</th>\n",
       "      <th>StreamingMovies</th>\n",
       "      <th></th>\n",
       "      <th></th>\n",
       "      <th></th>\n",
       "    </tr>\n",
       "  </thead>\n",
       "  <tbody>\n",
       "    <tr>\n",
       "      <th rowspan=\"4\" valign=\"top\">No</th>\n",
       "      <th rowspan=\"2\" valign=\"top\">No</th>\n",
       "      <th>No</th>\n",
       "      <td>299</td>\n",
       "      <td>0</td>\n",
       "      <td>0</td>\n",
       "    </tr>\n",
       "    <tr>\n",
       "      <th>Yes</th>\n",
       "      <td>98</td>\n",
       "      <td>0</td>\n",
       "      <td>0</td>\n",
       "    </tr>\n",
       "    <tr>\n",
       "      <th rowspan=\"2\" valign=\"top\">Yes</th>\n",
       "      <th>No</th>\n",
       "      <td>85</td>\n",
       "      <td>0</td>\n",
       "      <td>0</td>\n",
       "    </tr>\n",
       "    <tr>\n",
       "      <th>Yes</th>\n",
       "      <td>200</td>\n",
       "      <td>0</td>\n",
       "      <td>0</td>\n",
       "    </tr>\n",
       "    <tr>\n",
       "      <th rowspan=\"5\" valign=\"top\">Yes</th>\n",
       "      <th rowspan=\"2\" valign=\"top\">No</th>\n",
       "      <th>No</th>\n",
       "      <td>814</td>\n",
       "      <td>905</td>\n",
       "      <td>0</td>\n",
       "    </tr>\n",
       "    <tr>\n",
       "      <th>Yes</th>\n",
       "      <td>253</td>\n",
       "      <td>441</td>\n",
       "      <td>0</td>\n",
       "    </tr>\n",
       "    <tr>\n",
       "      <th>No internet service</th>\n",
       "      <th>No internet service</th>\n",
       "      <td>0</td>\n",
       "      <td>0</td>\n",
       "      <td>1526</td>\n",
       "    </tr>\n",
       "    <tr>\n",
       "      <th rowspan=\"2\" valign=\"top\">Yes</th>\n",
       "      <th>No</th>\n",
       "      <td>242</td>\n",
       "      <td>440</td>\n",
       "      <td>0</td>\n",
       "    </tr>\n",
       "    <tr>\n",
       "      <th>Yes</th>\n",
       "      <td>430</td>\n",
       "      <td>1310</td>\n",
       "      <td>0</td>\n",
       "    </tr>\n",
       "  </tbody>\n",
       "</table>\n",
       "</div>"
      ],
      "text/plain": [
       "InternetService                                       DSL  Fiber optic    No\n",
       "PhoneService StreamingTV         StreamingMovies                            \n",
       "No           No                  No                   299            0     0\n",
       "                                 Yes                   98            0     0\n",
       "             Yes                 No                    85            0     0\n",
       "                                 Yes                  200            0     0\n",
       "Yes          No                  No                   814          905     0\n",
       "                                 Yes                  253          441     0\n",
       "             No internet service No internet service    0            0  1526\n",
       "             Yes                 No                   242          440     0\n",
       "                                 Yes                  430         1310     0"
      ]
     },
     "execution_count": 26,
     "metadata": {},
     "output_type": "execute_result"
    }
   ],
   "source": [
    "#PhoneService, InternetService, StreamingTV, StreamingMovies - krížová tabuľka početnosti kombinácií\n",
    "pd.crosstab(columns=[data[\"InternetService\"]], index=[data[\"PhoneService\"], data[\"StreamingTV\"], data[\"StreamingMovies\"]])"
   ]
  },
  {
   "cell_type": "code",
   "execution_count": 27,
   "metadata": {},
   "outputs": [
    {
     "data": {
      "image/png": "[encoded data removed]",
      "text/plain": [
       "<Figure size 1008x720 with 4 Axes>"
      ]
     },
     "metadata": {
      "needs_background": "light"
     },
     "output_type": "display_data"
    }
   ],
   "source": [
    "f, ax = plt.subplots(2,2,figsize=(14,10))\n",
    "vis1 = sns.countplot(data['PhoneService'], hue=data['InternetService'], ax= ax[0][0])\n",
    "vis2 = sns.countplot(data['StreamingTV'], hue=data['InternetService'], ax= ax[0][1])\n",
    "vis3 = sns.countplot(data['StreamingMovies'], hue=data['InternetService'], ax= ax[1][0])"
   ]
  },
  {
   "cell_type": "markdown",
   "metadata": {},
   "source": [
    "### Úloha 6 - Nahradenie chýbajúcich hodnôt (5b)\n",
    "\n",
    "* Vhodným spôsobom nahraďte chýbajúce hondnoty v atribúte `MonthlyCharges` v závislosti od atribútu `TotalCharges` a `Tenure`.\n",
    "* Pre hodnoty `TotalCharges` porozmýšľajte nad odvodením chýbajúcich hodnôt na základe `Tenure`.\n",
    "* Vhodným spôsobom nahraďte chýbajúce hodnoty v atribúte `Dependents` v závislosti od atribútov `Gender` a `Partner`."
   ]
  },
  {
   "cell_type": "code",
   "execution_count": 29,
   "metadata": {},
   "outputs": [],
   "source": [
    "#nahradenie chýbajúcich hodnôt MonthlyCharges\n",
    "a = data.eval(\"TotalCharges / Tenure\")\n",
    "a = a.median()\n",
    "data['MonthlyCharges'].fillna(a, inplace=True)"
   ]
  },
  {
   "cell_type": "code",
   "execution_count": 30,
   "metadata": {},
   "outputs": [],
   "source": [
    "#nahradenie chýbajúcich hodnôt TotalCharges\n",
    "b = data.eval(\"MonthlyCharges * Tenure\")\n",
    "b = b.median()\n",
    "data['TotalCharges'].fillna(b, inplace=True)"
   ]
  },
  {
   "cell_type": "code",
   "execution_count": 48,
   "metadata": {},
   "outputs": [
    {
     "data": {
      "text/html": [
       "<div>\n",
       "<style scoped>\n",
       "    .dataframe tbody tr th:only-of-type {\n",
       "        vertical-align: middle;\n",
       "    }\n",
       "\n",
       "    .dataframe tbody tr th {\n",
       "        vertical-align: top;\n",
       "    }\n",
       "\n",
       "    .dataframe thead th {\n",
       "        text-align: right;\n",
       "    }\n",
       "</style>\n",
       "<table border=\"1\" class=\"dataframe\">\n",
       "  <thead>\n",
       "    <tr style=\"text-align: right;\">\n",
       "      <th></th>\n",
       "      <th>Gender</th>\n",
       "      <th>Female</th>\n",
       "      <th>Male</th>\n",
       "      <th>All</th>\n",
       "    </tr>\n",
       "    <tr>\n",
       "      <th>Dependents</th>\n",
       "      <th>Partner</th>\n",
       "      <th></th>\n",
       "      <th></th>\n",
       "      <th></th>\n",
       "    </tr>\n",
       "  </thead>\n",
       "  <tbody>\n",
       "    <tr>\n",
       "      <th rowspan=\"2\" valign=\"top\">No</th>\n",
       "      <th>No</th>\n",
       "      <td>1646</td>\n",
       "      <td>1624</td>\n",
       "      <td>3270</td>\n",
       "    </tr>\n",
       "    <tr>\n",
       "      <th>Yes</th>\n",
       "      <td>804</td>\n",
       "      <td>847</td>\n",
       "      <td>1651</td>\n",
       "    </tr>\n",
       "    <tr>\n",
       "      <th rowspan=\"2\" valign=\"top\">Yes</th>\n",
       "      <th>No</th>\n",
       "      <td>144</td>\n",
       "      <td>214</td>\n",
       "      <td>358</td>\n",
       "    </tr>\n",
       "    <tr>\n",
       "      <th>Yes</th>\n",
       "      <td>880</td>\n",
       "      <td>864</td>\n",
       "      <td>1744</td>\n",
       "    </tr>\n",
       "    <tr>\n",
       "      <th>All</th>\n",
       "      <th></th>\n",
       "      <td>3474</td>\n",
       "      <td>3549</td>\n",
       "      <td>7023</td>\n",
       "    </tr>\n",
       "  </tbody>\n",
       "</table>\n",
       "</div>"
      ],
      "text/plain": [
       "Gender              Female  Male   All\n",
       "Dependents Partner                    \n",
       "No         No         1646  1624  3270\n",
       "           Yes         804   847  1651\n",
       "Yes        No          144   214   358\n",
       "           Yes         880   864  1744\n",
       "All                   3474  3549  7023"
      ]
     },
     "execution_count": 48,
     "metadata": {},
     "output_type": "execute_result"
    }
   ],
   "source": [
    "# pre vlastnú potrebu zoskupenie dát celkový počet záznamov=7023, 70% záznamov má Dependent=NO,\n",
    "pd.crosstab(index=[data[\"Dependents\"], data[\"Partner\"]], columns=data[\"Gender\"], margins=True)"
   ]
  },
  {
   "cell_type": "code",
   "execution_count": 49,
   "metadata": {},
   "outputs": [],
   "source": [
    "#celkový počet chýbajúcich záznamov= 20(0,003%)\n",
    "#preto nahradenie chýbajúcich dependents najčastejšie sa vyskytujúcou hodnotou = NO\n",
    "data[\"Dependents\"].fillna(\"No\", inplace=True)"
   ]
  },
  {
   "cell_type": "markdown",
   "metadata": {},
   "source": [
    "### Úloha 7 - Odvodenie nových atribútov (5b)\n",
    "\n",
    "* Vytvorte nový atribút `TotalMonthCharges`, ktorého hondoty sú rovné `MonthlyCharges * Tenure`.\n",
    "* Vytvorte nový atribút `TotalRatio` ktorý bude mať hodnotu -1 ak `TotalMonthCharges < TotalCharges`, 0 ak `TotalMonthCharges = TotalCharges` a +1 ak `TotalMonthCharges > TotalCharges`."
   ]
  },
  {
   "cell_type": "code",
   "execution_count": 56,
   "metadata": {},
   "outputs": [],
   "source": [
    "# nový atribút TotalMonthCharges\n",
    "data[\"TotalMonthCharges\"] = data.eval(\"MonthlyCharges * Tenure\")"
   ]
  },
  {
   "cell_type": "code",
   "execution_count": 62,
   "metadata": {},
   "outputs": [],
   "source": [
    "# nový atribút TotalRatio\n",
    "def m_TotalRatio(ratio):\n",
    "    if {\"TotalMonthCharges < TotalCharges\"}:\n",
    "        return \"-1\"\n",
    "    elif {\"TotalMonthCharges < TotalCharges\"}:\n",
    "        return \"0\"\n",
    "    elif {\"TotalMonthCharges = TotalCharges\"}:\n",
    "        return \"1\"\n",
    "    return\n",
    "data[\"TotalRatio\"]=data[\"TotalMonthCharges\"].apply(m_TotalRatio)"
   ]
  },
  {
   "cell_type": "markdown",
   "metadata": {},
   "source": [
    "### Úloha 8 - Prevedenie dát do podoby vhodnej pre modelovanie (5b)\n",
    "\n",
    "Predspracovaný dátový rámec preveďte do podoby vhodnej pre modelovanie:\n",
    "* Použite vhodný spôsob transformovania kategorických atribútov\n",
    "* Použite normalizáciu zvolených atribútov pre modely, pre ktoré je normalizácia vhodná\n",
    "* Zvoľte, ktoré z atribútov (pôvodných a vytvorených/transformovaných) použijete pri tvorbe modelov."
   ]
  },
  {
   "cell_type": "code",
   "execution_count": 64,
   "metadata": {},
   "outputs": [
    {
     "data": {
      "text/html": [
       "<div>\n",
       "<style scoped>\n",
       "    .dataframe tbody tr th:only-of-type {\n",
       "        vertical-align: middle;\n",
       "    }\n",
       "\n",
       "    .dataframe tbody tr th {\n",
       "        vertical-align: top;\n",
       "    }\n",
       "\n",
       "    .dataframe thead th {\n",
       "        text-align: right;\n",
       "    }\n",
       "</style>\n",
       "<table border=\"1\" class=\"dataframe\">\n",
       "  <thead>\n",
       "    <tr style=\"text-align: right;\">\n",
       "      <th></th>\n",
       "      <th>Gender</th>\n",
       "      <th>SeniorCitizen</th>\n",
       "      <th>Partner</th>\n",
       "      <th>Dependents</th>\n",
       "      <th>Tenure</th>\n",
       "      <th>PhoneService</th>\n",
       "      <th>MultipleLines</th>\n",
       "      <th>InternetService</th>\n",
       "      <th>OnlineSecurity</th>\n",
       "      <th>OnlineBackup</th>\n",
       "      <th>...</th>\n",
       "      <th>PaperlessBilling</th>\n",
       "      <th>PaymentMethod</th>\n",
       "      <th>MonthlyCharges</th>\n",
       "      <th>TotalCharges</th>\n",
       "      <th>Churn</th>\n",
       "      <th>MonthlyCharges_ordinal</th>\n",
       "      <th>TotalCharges_ordinal</th>\n",
       "      <th>Tenure_ordinal</th>\n",
       "      <th>TotalMonthCharges</th>\n",
       "      <th>TotalRatio</th>\n",
       "    </tr>\n",
       "  </thead>\n",
       "  <tbody>\n",
       "    <tr>\n",
       "      <th>0</th>\n",
       "      <td>Female</td>\n",
       "      <td>No</td>\n",
       "      <td>Yes</td>\n",
       "      <td>No</td>\n",
       "      <td>1</td>\n",
       "      <td>No</td>\n",
       "      <td>No phone service</td>\n",
       "      <td>DSL</td>\n",
       "      <td>No</td>\n",
       "      <td>Yes</td>\n",
       "      <td>...</td>\n",
       "      <td>Yes</td>\n",
       "      <td>Electronic check</td>\n",
       "      <td>29.85</td>\n",
       "      <td>29.85</td>\n",
       "      <td>No</td>\n",
       "      <td>very_low</td>\n",
       "      <td>very_low</td>\n",
       "      <td>very_short</td>\n",
       "      <td>29.85</td>\n",
       "      <td>-1</td>\n",
       "    </tr>\n",
       "    <tr>\n",
       "      <th>1</th>\n",
       "      <td>Male</td>\n",
       "      <td>No</td>\n",
       "      <td>No</td>\n",
       "      <td>No</td>\n",
       "      <td>34</td>\n",
       "      <td>Yes</td>\n",
       "      <td>No</td>\n",
       "      <td>DSL</td>\n",
       "      <td>Yes</td>\n",
       "      <td>No</td>\n",
       "      <td>...</td>\n",
       "      <td>No</td>\n",
       "      <td>Mailed check</td>\n",
       "      <td>56.95</td>\n",
       "      <td>1889.50</td>\n",
       "      <td>No</td>\n",
       "      <td>low</td>\n",
       "      <td>low</td>\n",
       "      <td>standard</td>\n",
       "      <td>1936.30</td>\n",
       "      <td>-1</td>\n",
       "    </tr>\n",
       "    <tr>\n",
       "      <th>2</th>\n",
       "      <td>Male</td>\n",
       "      <td>No</td>\n",
       "      <td>No</td>\n",
       "      <td>No</td>\n",
       "      <td>2</td>\n",
       "      <td>Yes</td>\n",
       "      <td>No</td>\n",
       "      <td>DSL</td>\n",
       "      <td>Yes</td>\n",
       "      <td>Yes</td>\n",
       "      <td>...</td>\n",
       "      <td>Yes</td>\n",
       "      <td>Mailed check</td>\n",
       "      <td>53.85</td>\n",
       "      <td>108.15</td>\n",
       "      <td>Yes</td>\n",
       "      <td>low</td>\n",
       "      <td>very_low</td>\n",
       "      <td>very_short</td>\n",
       "      <td>107.70</td>\n",
       "      <td>-1</td>\n",
       "    </tr>\n",
       "    <tr>\n",
       "      <th>3</th>\n",
       "      <td>Male</td>\n",
       "      <td>No</td>\n",
       "      <td>No</td>\n",
       "      <td>No</td>\n",
       "      <td>45</td>\n",
       "      <td>No</td>\n",
       "      <td>No phone service</td>\n",
       "      <td>DSL</td>\n",
       "      <td>Yes</td>\n",
       "      <td>No</td>\n",
       "      <td>...</td>\n",
       "      <td>No</td>\n",
       "      <td>Bank transfer (automatic)</td>\n",
       "      <td>42.30</td>\n",
       "      <td>1840.75</td>\n",
       "      <td>No</td>\n",
       "      <td>low</td>\n",
       "      <td>low</td>\n",
       "      <td>long</td>\n",
       "      <td>1903.50</td>\n",
       "      <td>-1</td>\n",
       "    </tr>\n",
       "    <tr>\n",
       "      <th>4</th>\n",
       "      <td>Female</td>\n",
       "      <td>No</td>\n",
       "      <td>No</td>\n",
       "      <td>No</td>\n",
       "      <td>2</td>\n",
       "      <td>Yes</td>\n",
       "      <td>No</td>\n",
       "      <td>Fiber optic</td>\n",
       "      <td>No</td>\n",
       "      <td>No</td>\n",
       "      <td>...</td>\n",
       "      <td>Yes</td>\n",
       "      <td>Electronic check</td>\n",
       "      <td>70.70</td>\n",
       "      <td>151.65</td>\n",
       "      <td>Yes</td>\n",
       "      <td>standard</td>\n",
       "      <td>very_low</td>\n",
       "      <td>very_short</td>\n",
       "      <td>141.40</td>\n",
       "      <td>-1</td>\n",
       "    </tr>\n",
       "  </tbody>\n",
       "</table>\n",
       "<p>5 rows × 25 columns</p>\n",
       "</div>"
      ],
      "text/plain": [
       "   Gender SeniorCitizen Partner Dependents  Tenure PhoneService  \\\n",
       "0  Female            No     Yes         No       1           No   \n",
       "1    Male            No      No         No      34          Yes   \n",
       "2    Male            No      No         No       2          Yes   \n",
       "3    Male            No      No         No      45           No   \n",
       "4  Female            No      No         No       2          Yes   \n",
       "\n",
       "      MultipleLines InternetService OnlineSecurity OnlineBackup  ...  \\\n",
       "0  No phone service             DSL             No          Yes  ...   \n",
       "1                No             DSL            Yes           No  ...   \n",
       "2                No             DSL            Yes          Yes  ...   \n",
       "3  No phone service             DSL            Yes           No  ...   \n",
       "4                No     Fiber optic             No           No  ...   \n",
       "\n",
       "  PaperlessBilling              PaymentMethod MonthlyCharges TotalCharges  \\\n",
       "0              Yes           Electronic check          29.85        29.85   \n",
       "1               No               Mailed check          56.95      1889.50   \n",
       "2              Yes               Mailed check          53.85       108.15   \n",
       "3               No  Bank transfer (automatic)          42.30      1840.75   \n",
       "4              Yes           Electronic check          70.70       151.65   \n",
       "\n",
       "  Churn MonthlyCharges_ordinal TotalCharges_ordinal  Tenure_ordinal  \\\n",
       "0    No               very_low             very_low      very_short   \n",
       "1    No                    low                  low        standard   \n",
       "2   Yes                    low             very_low      very_short   \n",
       "3    No                    low                  low            long   \n",
       "4   Yes               standard             very_low      very_short   \n",
       "\n",
       "   TotalMonthCharges TotalRatio  \n",
       "0              29.85         -1  \n",
       "1            1936.30         -1  \n",
       "2             107.70         -1  \n",
       "3            1903.50         -1  \n",
       "4             141.40         -1  \n",
       "\n",
       "[5 rows x 25 columns]"
      ]
     },
     "execution_count": 64,
     "metadata": {},
     "output_type": "execute_result"
    }
   ],
   "source": [
    "data.head()"
   ]
  },
  {
   "cell_type": "code",
   "execution_count": 65,
   "metadata": {},
   "outputs": [],
   "source": [
    "#transformácia atribútov s 2 hodnotami\n",
    "from sklearn.preprocessing import LabelEncoder\n",
    "data['Gender'] = LabelEncoder().fit_transform(data['Gender'])\n",
    "data['SeniorCitizen'] = LabelEncoder().fit_transform(data['SeniorCitizen'])\n",
    "data['Partner'] = LabelEncoder().fit_transform(data['Partner'])\n",
    "data['Dependents'] = LabelEncoder().fit_transform(data['Dependents'])                                             \n",
    "data['PhoneService'] = LabelEncoder().fit_transform(data['PhoneService'])                                                   \n",
    "data['PaperlessBilling'] = LabelEncoder().fit_transform(data['PaperlessBilling'])\n",
    "data['Churn'] = LabelEncoder().fit_transform(data['Churn'])"
   ]
  },
  {
   "cell_type": "code",
   "execution_count": 68,
   "metadata": {},
   "outputs": [],
   "source": [
    "#transformácia atribútov s viacerými hodnotami\n",
    "data = pd.get_dummies(data, columns=['MultipleLines', 'InternetService', 'OnlineSecurity', 'OnlineBackup', 'DeviceProtection', 'TechSupport', 'StreamingTV', 'StreamingMovies', 'Contract', 'PaymentMethod'])"
   ]
  },
  {
   "cell_type": "code",
   "execution_count": 71,
   "metadata": {},
   "outputs": [],
   "source": [
    "#transformácia ordinálnych atribútov\n",
    "data['Tenure_ordinal'] = data['Tenure_ordinal'].map({\"very_short\": 0, \"short\": 1, \"standard\": 2, \"long\": 3, \"very_long\": 4})\n",
    "data['MonthlyCharges_ordinal'] = data['MonthlyCharges_ordinal'].map({\"very_low\": 0, \"low\": 1, \"standard\": 2, \"high\": 3, \"very_high\": 4})\n",
    "data['TotalCharges_ordinal'] = data['MonthlyCharges_ordinal'].map({\"very_low\": 0, \"low\": 1, \"standard\": 2, \"high\": 3, \"very_high\": 4})"
   ]
  },
  {
   "cell_type": "code",
   "execution_count": 72,
   "metadata": {},
   "outputs": [
    {
     "name": "stderr",
     "output_type": "stream",
     "text": [
      "C:\\Users\\hajdu\\Anaconda3\\lib\\site-packages\\sklearn\\preprocessing\\data.py:334: DataConversionWarning: Data with input dtype uint8, int32, int64, float64, object were all converted to float64 by MinMaxScaler.\n",
      "  return self.partial_fit(X, y)\n",
      "C:\\Users\\hajdu\\Anaconda3\\lib\\site-packages\\sklearn\\preprocessing\\data.py:364: RuntimeWarning: All-NaN slice encountered\n",
      "  data_min = np.nanmin(X, axis=0)\n",
      "C:\\Users\\hajdu\\Anaconda3\\lib\\site-packages\\sklearn\\preprocessing\\data.py:365: RuntimeWarning: All-NaN slice encountered\n",
      "  data_max = np.nanmax(X, axis=0)\n"
     ]
    }
   ],
   "source": [
    "#normalizácia - kvôli kNN\n",
    "from sklearn.preprocessing import MinMaxScaler\n",
    "scaler = MinMaxScaler()\n",
    "normData = pd.DataFrame(scaler.fit_transform(data), index=data.index, columns=data.columns)"
   ]
  },
  {
   "cell_type": "code",
   "execution_count": 73,
   "metadata": {},
   "outputs": [],
   "source": [
    "#odstránenie atribútov\n",
    "data = data.drop(columns=['TotalRatio','Dependents','TotalMonthCharges'])"
   ]
  },
  {
   "cell_type": "markdown",
   "metadata": {},
   "source": [
    "### Úloha 9 - Rozdelenie dát na trénovanie a testovanie (2b)\n",
    "\n",
    "* Rozdeľte dátovú množinu do matice príznakov a vektora hodnôt cieľového atribútu\n",
    "* Rozdeľte dáta do trénovacej a testovacej množiny v pomere 70/30."
   ]
  },
  {
   "cell_type": "code",
   "execution_count": 76,
   "metadata": {},
   "outputs": [
    {
     "name": "stdout",
     "output_type": "stream",
     "text": [
      "(7043, 42)\n",
      "(7043,)\n"
     ]
    }
   ],
   "source": [
    "#matica príznakov + vektor hodnôt cieľového atribútu\n",
    "X_data = data.drop('Churn', axis=1)\n",
    "y_data = data['Churn']\n",
    "\n",
    "print(X_data.shape)\n",
    "print(y_data.shape)"
   ]
  },
  {
   "cell_type": "code",
   "execution_count": 78,
   "metadata": {},
   "outputs": [],
   "source": [
    "#rozdelenie množina (70/30)\n",
    "from sklearn.model_selection import train_test_split\n",
    "X_train, X_test, y_train, y_test = train_test_split(X_data, y_data, test_size=0.7, random_state=1)"
   ]
  },
  {
   "cell_type": "markdown",
   "metadata": {},
   "source": [
    "### Úloha 10 - Natrénovanie klasifikačných modelov a nájdenie optimálnych parametrov (6b)\n",
    "\n",
    "Natrénujte klasifikačné modely rôznych typov (Stromy, kNN, Naive Bayes, Random Forests). Pre nájdenie optimálnych parametrov modelov jednotlivých typov modelov použite GridSearch. V rámci GridSearch modely validujte 5- násobnou krížovou validáciou a ako metriku pre ich vyhodnotenie použite `accuracy`."
   ]
  },
  {
   "cell_type": "code",
   "execution_count": null,
   "metadata": {},
   "outputs": [],
   "source": [
    "#model 1 - kNN\n",
    "from sklearn.neighbors import KNeighborsClassifier\n",
    "from sklearn.metrics import confusion_matrix\n",
    "from sklearn.metrics import accuracy_score,precision_score, recall_score\n",
    "from sklearn.model_selection import GridSearchCV\n",
    "\n",
    "model1 = KNeighborsClassifier()\n",
    "k_range = list(range(1, 50))\n",
    "param_grid = dict(n_neighbors=k_range)\n",
    "grid = GridSearchCV(estimator=knn, param_grid=param_grid, cv=5, scoring='accuracy')\n",
    "grid.fit(X_train, y_train) #aplikujem na trénovaciu množinu"
   ]
  },
  {
   "cell_type": "code",
   "execution_count": null,
   "metadata": {},
   "outputs": [],
   "source": [
    "#vyhodnotenie výsledkov\n",
    "print(grid.best_params_)\n",
    "print(grid.best_score_)\n",
    "means = grid.cv_results_['mean_test_score']\n",
    "for mean, params in zip(means, grid.cv_results_['params']):\n",
    "    print(\"%0.3f pre hodnotu %r\" % (mean, params))\n",
    "print()"
   ]
  },
  {
   "cell_type": "code",
   "execution_count": null,
   "metadata": {},
   "outputs": [],
   "source": [
    "#model 2 - rozhodovacie stromy\n",
    "from sklearn.tree import DecisionTreeClassifier\n",
    "\n",
    "model2 = DecisionTreeClassifier()\n",
    "model2.fit(X_train, y_train)\n",
    "y_dt = dt.predict(X_test)\n",
    "\n",
    "criterion_range = ['gini', 'entropy']\n",
    "max_depth_range = [1, 2, 3, 4, 5, 6, 7, 8, 9, 10]\n",
    "min_samples_split_range = [2, 4, 8, 10]\n",
    "min_samples_leaf_range = [1, 5, 10, 15]\n",
    "presort_range = [True, False]\n",
    "\n",
    "param_grid = dict(criterion=criterion_range, max_depth=max_depth_range, min_samples_split = min_samples_split_range, min_samples_leaf = min_samples_leaf_range, presort = presort_range )\n",
    "print(param_grid)\n"
   ]
  },
  {
   "cell_type": "code",
   "execution_count": null,
   "metadata": {},
   "outputs": [],
   "source": [
    "# nastavime samotny Grid Search - model dtree vytvoreny predoslym prikazom, predame mu nastavene pole parametrov a nastavime validaciu a metriku\n",
    "grid = GridSearchCV(estimator=dtree, param_grid=param_grid, cv=10, scoring='accuracy') # nastavíme parametre Grid Searchu\n",
    "grid.fit(X_train, y_train) # naučíme Grid Search na trénovacích dátach\n",
    "\n",
    "# vypiseme kombinaciu parametrov najlepsieho modelu a jeho skore pri validacii\n",
    "print(grid.best_params_)\n",
    "print()\n",
    "print(grid.best_score_)"
   ]
  },
  {
   "cell_type": "markdown",
   "metadata": {},
   "source": [
    "### Úloha 11 - Porovnanie modelov pomocou ROC kriviek (4b)\n",
    "\n",
    "* Modely otestujte na testovacej množine a modely jednotlivých typov s najvhodnejšími parametrami vzájomne porovnajte pomocou ROC kriviek a AUC koeficientov. ROC krivky vykreslite pomocou matplotlib a nájdite najlepší z modelov.  "
   ]
  },
  {
   "cell_type": "markdown",
   "metadata": {},
   "source": [
    "### Úloha 12 - Vyhodnotenie modelu na testovacej množine (4b)\n",
    "\n",
    "* Modely otestujte na testovacej množine, pri testovaní na testovacej množine vypíšte hodnoty metrík (accuracy, precision, recall) a confusion matrix. Porovnajte výsledky - ktorý z modelov najlepšie predikuje deteguje zákazníkov, ktorí od telekomunikačného operátora odídu?\n",
    "* Vykreslite model rozhodovacích stromov (pomocou webgraphviz). Pokúste sa zo štruktúry modelu odvodiť klasifikačné pravidlo/pravidlá pre identifikáciu odchádzajúcich zákazníkov."
   ]
  },
  {
   "cell_type": "code",
   "execution_count": null,
   "metadata": {},
   "outputs": [],
   "source": [
    "# POZOR - aplikácia na test zmeň počet susedov, weights + metric podľa výsledkov\n",
    "model1 = KNeighborsClassifier(n_neighbors=20, weights='uniform', metric='manhattan')\n",
    "model1.fit(X_train, y_train)\n",
    "\n",
    "y_model1 = model1.predict(X_test)\n",
    "\n",
    "cm = confusion_matrix(y_test, y_model1)\n",
    "print(cm)"
   ]
  },
  {
   "cell_type": "code",
   "execution_count": null,
   "metadata": {},
   "outputs": [],
   "source": [
    "print(\"Accuracy: %0.3f\" % accuracy_score(y_test, y_model1))\n",
    "print(\"Precision: %0.3f\" % precision_score(y_test, y_model1))\n",
    "print(\"Recall: %0.3f\" % recall_score(y_test, y_model1))"
   ]
  },
  {
   "cell_type": "code",
   "execution_count": null,
   "metadata": {},
   "outputs": [],
   "source": [
    "model2 = "
   ]
  },
  {
   "cell_type": "code",
   "execution_count": null,
   "metadata": {},
   "outputs": [],
   "source": [
    "# YOUR CODE HERE\n",
    "from sklearn.metrics import roc_curve,auc\n",
    "\n",
    "fpr, tpr, thresholds = roc_curve(y_test, y_model1, pos_label=1) \n",
    "fpr2, tpr2, thresholds2 = roc_curve(y_test_norm, y_model2, pos_label=1) \n",
    "\n",
    "roc_auc = auc(fpr, tpr)\n",
    "roc_auc2 = auc(fpr2, tpr2) \n",
    "plt.title('ROC Krivka') \n",
    "plt.title('ROC Krivka')\n",
    "plt.plot(fpr, tpr, 'navy', label = 'ROC krivka modelu (AUC = %0.2f)' % roc_auc)  \n",
    "plt.plot(fpr2, tpr2, 'darkorange', label = 'ROC krivka modelu2 (AUC = %0.2f)' % roc_auc2)\n",
    "plt.legend(loc = 'lower right')\n",
    "plt.plot([0, 1], [0, 1],'r--')\n",
    "plt.xlim([0, 1]) # os x bude nadobúdať hodnoty od 0 do 1\n",
    "plt.ylim([0, 1]) # os y bude nadobúdať hodnoty od 0 do 1\n",
    "plt.ylabel('True Positive Rate') # jednotlivé osi otitulkujeme\n",
    "plt.xlabel('False Positive Rate') # jednotlivé osi otitulkujeme\n",
    "plt.show()"
   ]
  },
  {
   "cell_type": "code",
   "execution_count": null,
   "metadata": {},
   "outputs": [],
   "source": [
    "# YOUR CODE HERE\n"
   ]
  }
 ],
 "metadata": {
  "kernelspec": {
   "display_name": "Python 3",
   "language": "python",
   "name": "python3"
  },
  "language_info": {
   "codemirror_mode": {
    "name": "ipython",
    "version": 3
   },
   "file_extension": ".py",
   "mimetype": "text/x-python",
   "name": "python",
   "nbconvert_exporter": "python",
   "pygments_lexer": "ipython3",
   "version": "3.7.2"
  }
 },
 "nbformat": 4,
 "nbformat_minor": 2
}
